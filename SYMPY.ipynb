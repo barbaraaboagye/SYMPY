{
 "cells": [
  {
   "cell_type": "markdown",
   "metadata": {},
   "source": [
    "# Sympy\n",
    "It's a powerful library that allows one to perform symbolic calculations. It allows one to store formulas and variables as symbolic expression, that is in terms of variables."
   ]
  },
  {
   "cell_type": "markdown",
   "metadata": {},
   "source": [
    "## Importing Library"
   ]
  },
  {
   "cell_type": "code",
   "execution_count": 20,
   "metadata": {},
   "outputs": [
    {
     "data": {
      "text/latex": [
       "$\\displaystyle 2 + \\sqrt{6}$"
      ],
      "text/plain": [
       "2 + √6"
      ]
     },
     "metadata": {},
     "output_type": "display_data"
    },
    {
     "data": {
      "text/latex": [
       "$\\displaystyle - e^{3} + 3 \\sqrt{5}$"
      ],
      "text/plain": [
       "   3       \n",
       "- ℯ  + 3⋅√5"
      ]
     },
     "metadata": {},
     "output_type": "display_data"
    }
   ],
   "source": [
    "import sympy as sp\n",
    "sp.init_printing(use_latex=\"mathjax\") #print expression in LateX format\n",
    "display(2+sp.sqrt(6)) #display prints the expression more nicely instead of print\n",
    "display(sp.sqrt(45) - sp.exp(3)) # As you can see it performed the operation on sqrt(45)"
   ]
  },
  {
   "cell_type": "code",
   "execution_count": 21,
   "metadata": {},
   "outputs": [
    {
     "name": "stdout",
     "output_type": "stream",
     "text": [
      "-exp(3) + 3*sqrt(5)\n"
     ]
    }
   ],
   "source": [
    "print(sp.sqrt(45) - sp.exp(3)) #Not pretty"
   ]
  },
  {
   "cell_type": "markdown",
   "metadata": {},
   "source": [
    " ## Symbols\n",
    " All symbols used in the calculations or fomulas must be defined using the method **.symbols(\"symbols to be used\")**"
   ]
  },
  {
   "cell_type": "code",
   "execution_count": 22,
   "metadata": {},
   "outputs": [],
   "source": [
    "#Defining symbols to be used in the calculation\n",
    "a, b=sp.symbols(\"a b\") "
   ]
  },
  {
   "cell_type": "code",
   "execution_count": 23,
   "metadata": {},
   "outputs": [
    {
     "data": {
      "text/latex": [
       "$\\displaystyle a + b$"
      ],
      "text/plain": [
       "a + b"
      ]
     },
     "metadata": {},
     "output_type": "display_data"
    },
    {
     "data": {
      "text/latex": [
       "$\\displaystyle \\left(a + b\\right)^{2}$"
      ],
      "text/plain": [
       "       2\n",
       "(a + b) "
      ]
     },
     "metadata": {},
     "output_type": "display_data"
    }
   ],
   "source": [
    "expr1=a+b \n",
    "expr2=expr1**2\n",
    "#expr3 = a+b+c \n",
    "display(expr1)\n",
    "display(expr2)\n",
    "#display (expr3) #gives an error since c is not defined"
   ]
  },
  {
   "cell_type": "markdown",
   "metadata": {},
   "source": [
    "## subs() and numerical evaluations\n",
    "This method is used if one wants to give a symbolic variable a numerical value"
   ]
  },
  {
   "cell_type": "code",
   "execution_count": 24,
   "metadata": {},
   "outputs": [],
   "source": [
    "x, y = sp.symbols(\"x y\")"
   ]
  },
  {
   "cell_type": "markdown",
   "metadata": {},
   "source": [
    "## Question\n",
    "### Algebraic functions\n",
    "\n",
    "1. Find the value of $f(x,y)$ for x = 1 and y = 5\n",
    "\n",
    "$f(1,5) = x^2 + y^2 +\\frac{xy}{3} $ "
   ]
  },
  {
   "cell_type": "code",
   "execution_count": 25,
   "metadata": {},
   "outputs": [
    {
     "data": {
      "text/latex": [
       "$\\displaystyle x^{2} + \\frac{x y}{3} + y^{2}$"
      ],
      "text/plain": [
       " 2   x⋅y    2\n",
       "x  + ─── + y \n",
       "      3      "
      ]
     },
     "metadata": {},
     "output_type": "display_data"
    },
    {
     "data": {
      "text/latex": [
       "$\\displaystyle y^{2} + \\frac{y}{3} + 1$"
      ],
      "text/plain": [
       " 2   y    \n",
       "y  + ─ + 1\n",
       "     3    "
      ]
     },
     "metadata": {},
     "output_type": "display_data"
    },
    {
     "data": {
      "text/latex": [
       "$\\displaystyle \\frac{83}{3}$"
      ],
      "text/plain": [
       "83/3"
      ]
     },
     "metadata": {},
     "output_type": "display_data"
    },
    {
     "data": {
      "text/latex": [
       "$\\displaystyle 27.667$"
      ],
      "text/plain": [
       "27.667"
      ]
     },
     "metadata": {},
     "output_type": "display_data"
    }
   ],
   "source": [
    "f=x**2+y**2+sp.Rational(1,3)*x*y\n",
    "display(f)\n",
    "res1=f.subs(x,1) #substituting x with 1 \n",
    "display(res1)\n",
    "res2=f.subs([(x,1), (y,5)]) #substituting x with 1  and y with 5\n",
    "display(res2)\n",
    "display(res2.evalf(5)) # convert results to a float with number of output"
   ]
  },
  {
   "cell_type": "markdown",
   "metadata": {},
   "source": [
    "### 2. Evaluate the function\n",
    "\n",
    "$\\displaystyle f\\left(x\\right)=-3{x}^{2}+2x$ at $f(-2)$."
   ]
  },
  {
   "cell_type": "code",
   "execution_count": 26,
   "metadata": {},
   "outputs": [
    {
     "data": {
      "text/latex": [
       "$\\displaystyle - 3 x^{2} + 2 x$"
      ],
      "text/plain": [
       "     2      \n",
       "- 3⋅x  + 2⋅x"
      ]
     },
     "metadata": {},
     "output_type": "display_data"
    },
    {
     "data": {
      "text/latex": [
       "$\\displaystyle -16$"
      ],
      "text/plain": [
       "-16"
      ]
     },
     "metadata": {},
     "output_type": "display_data"
    }
   ],
   "source": [
    "f = -3 *x**2 + 2*x\n",
    "display (f)\n",
    "soln = f.subs(x,-2)\n",
    "display(soln)"
   ]
  },
  {
   "cell_type": "markdown",
   "metadata": {},
   "source": [
    "# Simplifying expressions\n",
    "simplify()\n",
    "## Question\n",
    "Simplify the expression \n",
    "$\\frac{3x^2- 3y^2}{12x - 12y}$\n"
   ]
  },
  {
   "cell_type": "code",
   "execution_count": 27,
   "metadata": {},
   "outputs": [
    {
     "data": {
      "text/latex": [
       "$\\displaystyle \\frac{3 x^{2} - 3 y^{2}}{12 x - 12 y}$"
      ],
      "text/plain": [
       "   2      2\n",
       "3⋅x  - 3⋅y \n",
       "───────────\n",
       "12⋅x - 12⋅y"
      ]
     },
     "metadata": {},
     "output_type": "display_data"
    },
    {
     "data": {
      "text/latex": [
       "$\\displaystyle \\frac{x}{4} + \\frac{y}{4}$"
      ],
      "text/plain": [
       "x   y\n",
       "─ + ─\n",
       "4   4"
      ]
     },
     "metadata": {},
     "output_type": "display_data"
    }
   ],
   "source": [
    "qun1 = (3*x**2- 3*y**2)/ (12*x - 12*y)\n",
    "display (qun1)\n",
    "qun1s = sp.simplify(qun1)\n",
    "display(qun1s)"
   ]
  },
  {
   "cell_type": "markdown",
   "metadata": {},
   "source": [
    "# Calculus\n",
    "Derivatives (**diff(expression,symbol)**) and integrations (**integrate(expression,symbol)**) are integral part of engineering or mathematics in general"
   ]
  },
  {
   "cell_type": "markdown",
   "metadata": {},
   "source": [
    "## Differentiation\n"
   ]
  },
  {
   "cell_type": "code",
   "execution_count": 28,
   "metadata": {},
   "outputs": [
    {
     "data": {
      "text/latex": [
       "$\\displaystyle x^{2} + \\frac{x}{2} - 5$"
      ],
      "text/plain": [
       " 2   x    \n",
       "x  + ─ - 5\n",
       "     2    "
      ]
     },
     "metadata": {},
     "output_type": "display_data"
    },
    {
     "data": {
      "text/latex": [
       "$\\displaystyle 2 x + \\frac{1}{2}$"
      ],
      "text/plain": [
       "2⋅x + 1/2"
      ]
     },
     "metadata": {},
     "output_type": "display_data"
    }
   ],
   "source": [
    "## Question 1 \n",
    "x,y=sp.symbols(\"x y\")\n",
    "expr=x**2+sp.Rational(1,2)*x-5\n",
    "display (expr)\n",
    "derivative=sp.diff(expr,x)\n",
    "display(derivative)"
   ]
  },
  {
   "cell_type": "code",
   "execution_count": 29,
   "metadata": {},
   "outputs": [
    {
     "data": {
      "text/latex": [
       "$\\displaystyle \\cos{\\left(x \\right)}$"
      ],
      "text/plain": [
       "cos(x)"
      ]
     },
     "metadata": {},
     "output_type": "display_data"
    },
    {
     "data": {
      "text/latex": [
       "$\\displaystyle - \\sin{\\left(x \\right)}$"
      ],
      "text/plain": [
       "-sin(x)"
      ]
     },
     "metadata": {},
     "output_type": "display_data"
    }
   ],
   "source": [
    "# Question2 \n",
    "expr1 = sp.cos(x)\n",
    "display (expr1)\n",
    "derivative1 = sp.diff(expr1,x)\n",
    "display (derivative1)"
   ]
  },
  {
   "cell_type": "code",
   "execution_count": 30,
   "metadata": {},
   "outputs": [
    {
     "data": {
      "text/latex": [
       "$\\displaystyle \\sin{\\left(x \\right)} \\cos{\\left(x \\right)}$"
      ],
      "text/plain": [
       "sin(x)⋅cos(x)"
      ]
     },
     "metadata": {},
     "output_type": "display_data"
    },
    {
     "data": {
      "text/latex": [
       "$\\displaystyle - \\sin^{2}{\\left(x \\right)} + \\cos^{2}{\\left(x \\right)}$"
      ],
      "text/plain": [
       "     2         2   \n",
       "- sin (x) + cos (x)"
      ]
     },
     "metadata": {},
     "output_type": "display_data"
    }
   ],
   "source": [
    "## Question 3 \n",
    "expr2 = sp.cos(x) * sp.sin(x)\n",
    "display (expr2)\n",
    "derivative2 = sp.diff(expr2,x)\n",
    "display (derivative2)"
   ]
  },
  {
   "cell_type": "markdown",
   "metadata": {},
   "source": [
    "# Integration"
   ]
  },
  {
   "cell_type": "code",
   "execution_count": 31,
   "metadata": {},
   "outputs": [
    {
     "data": {
      "text/latex": [
       "$\\displaystyle x^{2} + \\frac{x}{2} - 5$"
      ],
      "text/plain": [
       " 2   x    \n",
       "x  + ─ - 5\n",
       "     2    "
      ]
     },
     "metadata": {},
     "output_type": "display_data"
    },
    {
     "data": {
      "text/latex": [
       "$\\displaystyle \\frac{x^{3}}{3} + \\frac{x^{2}}{4} - 5 x$"
      ],
      "text/plain": [
       " 3    2      \n",
       "x    x       \n",
       "── + ── - 5⋅x\n",
       "3    4       "
      ]
     },
     "metadata": {},
     "output_type": "display_data"
    },
    {
     "data": {
      "text/latex": [
       "$\\displaystyle - \\frac{15}{4}$"
      ],
      "text/plain": [
       "-15/4"
      ]
     },
     "metadata": {},
     "output_type": "display_data"
    }
   ],
   "source": [
    "#Question 1\n",
    "display (expr)\n",
    "integral1=sp.integrate(expr,x)\n",
    "display(integral1)\n",
    "integral2=sp.integrate(expr,(x, 0, 3)) # integrate from 0 to 3\n",
    "display(integral2)"
   ]
  },
  {
   "cell_type": "code",
   "execution_count": 32,
   "metadata": {},
   "outputs": [
    {
     "data": {
      "text/latex": [
       "$\\displaystyle \\frac{e^{x^{2}}}{2}$"
      ],
      "text/plain": [
       " ⎛ 2⎞\n",
       " ⎝x ⎠\n",
       "ℯ    \n",
       "─────\n",
       "  2  "
      ]
     },
     "metadata": {},
     "output_type": "display_data"
    }
   ],
   "source": [
    "#Question 2\n",
    "a =x* sp.exp (x**2)\n",
    "integral = sp.integrate (a,x)\n",
    "display (integral)"
   ]
  },
  {
   "cell_type": "code",
   "execution_count": 33,
   "metadata": {},
   "outputs": [
    {
     "data": {
      "text/latex": [
       "$\\displaystyle - \\frac{y^{2} \\cos{\\left(10 y \\right)}}{10} + \\frac{y \\sin{\\left(10 y \\right)}}{50} + \\frac{\\cos{\\left(10 y \\right)}}{500}$"
      ],
      "text/plain": [
       "   2                                    \n",
       "  y ⋅cos(10⋅y)   y⋅sin(10⋅y)   cos(10⋅y)\n",
       "- ──────────── + ─────────── + ─────────\n",
       "       10             50          500   "
      ]
     },
     "metadata": {},
     "output_type": "display_data"
    },
    {
     "data": {
      "text/latex": [
       "$\\displaystyle - \\frac{1249 \\cos{\\left(50 \\right)}}{500} + \\frac{\\sin{\\left(50 \\right)}}{10} - \\frac{1}{500}$"
      ],
      "text/plain": [
       "  1249⋅cos(50)   sin(50)    1 \n",
       "- ──────────── + ─────── - ───\n",
       "      500           10     500"
      ]
     },
     "metadata": {},
     "output_type": "display_data"
    }
   ],
   "source": [
    "# Question 3 \n",
    "d = y **2 *sp.sin(10*y)\n",
    "integral = sp.integrate (d,y)\n",
    "display (integral)\n",
    "integral2 = sp.integrate (d,(y,0,5))\n",
    "display (integral2)"
   ]
  },
  {
   "cell_type": "markdown",
   "metadata": {},
   "source": [
    "# Solvers\n",
    "**solveset(equation,symbol)**"
   ]
  },
  {
   "cell_type": "markdown",
   "metadata": {},
   "source": [
    "## Equations\n",
    "Eq()"
   ]
  },
  {
   "cell_type": "markdown",
   "metadata": {},
   "source": [
    "## Question\n",
    "1. Solve for *x* in this equation\n",
    "\n",
    "$\\displaystyle {\\textstyle\\frac{3}{4}}x + \\displaystyle {\\textstyle\\frac{5}{6}} = 5x - \\displaystyle {\\textstyle\\frac{125}{3}}$"
   ]
  },
  {
   "cell_type": "markdown",
   "metadata": {},
   "source": [
    "x=sp.symbols(\"x\")\n",
    "my_eq=sp.Eq(sp.Rational(3,4)*x + sp.Rational(5,6) - 5*x,-sp.Rational(125,3))\n",
    "display(my_eq)\n",
    "a = sp.solveset(my_eq,x) #solving the equation\n",
    "print (\"The value of x is \")\n",
    "\n",
    "display (a.args[0])"
   ]
  },
  {
   "cell_type": "markdown",
   "metadata": {},
   "source": [
    "2. Solve for *x* in this equation\n",
    "\n",
    "$2cos (x) = 0$ \n",
    "\n",
    "The answer expected is as seen below"
   ]
  },
  {
   "attachments": {
    "question.PNG": {
     "image/png": "[encoded data removed]"
    }
   },
   "cell_type": "markdown",
   "metadata": {},
   "source": [
    "![question.PNG](attachment:question.PNG)"
   ]
  },
  {
   "cell_type": "code",
   "execution_count": 34,
   "metadata": {},
   "outputs": [
    {
     "data": {
      "text/latex": [
       "$\\displaystyle \\left\\{2 n \\pi + \\frac{\\pi}{2}\\; |\\; n \\in \\mathbb{Z}\\right\\} \\cup \\left\\{2 n \\pi + \\frac{3 \\pi}{2}\\; |\\; n \\in \\mathbb{Z}\\right\\}$"
      ],
      "text/plain": [
       "⎧        π        ⎫   ⎧        3⋅π        ⎫\n",
       "⎨2⋅n⋅π + ─ | n ∊ ℤ⎬ ∪ ⎨2⋅n⋅π + ─── | n ∊ ℤ⎬\n",
       "⎩        2        ⎭   ⎩         2         ⎭"
      ]
     },
     "metadata": {},
     "output_type": "display_data"
    }
   ],
   "source": [
    "x=sp.symbols(\"x\")\n",
    "res1=sp.solveset(sp.cos(x)*2, x)\n",
    "display(res1)\n"
   ]
  },
  {
   "cell_type": "markdown",
   "metadata": {},
   "source": [
    "# Question 3 \n",
    "Find x \n",
    "\n",
    "$\\frac{2x}{5} + 3 = 0$"
   ]
  },
  {
   "cell_type": "code",
   "execution_count": 35,
   "metadata": {},
   "outputs": [
    {
     "data": {
      "text/latex": [
       "$\\displaystyle \\left\\{- \\frac{15}{2}\\right\\}$"
      ],
      "text/plain": [
       "{-15/2}"
      ]
     },
     "metadata": {},
     "output_type": "display_data"
    },
    {
     "data": {
      "text/latex": [
       "$\\displaystyle - \\frac{15}{2}$"
      ],
      "text/plain": [
       "-15/2"
      ]
     },
     "metadata": {},
     "output_type": "display_data"
    }
   ],
   "source": [
    "res2=sp.solveset(sp.Rational(2,5)*x+3, x)\n",
    "display(res2)\n",
    "display(res2.args[0]) #.args[] to access the values obtained from a solveset which is not a list but a finite set"
   ]
  },
  {
   "cell_type": "code",
   "execution_count": 36,
   "metadata": {},
   "outputs": [
    {
     "data": {
      "text/latex": [
       "$\\displaystyle \\left\\{-2, 2\\right\\}$"
      ],
      "text/plain": [
       "{-2, 2}"
      ]
     },
     "metadata": {},
     "output_type": "display_data"
    },
    {
     "data": {
      "text/latex": [
       "$\\displaystyle -2$"
      ],
      "text/plain": [
       "-2"
      ]
     },
     "metadata": {},
     "output_type": "display_data"
    },
    {
     "data": {
      "text/latex": [
       "$\\displaystyle 2$"
      ],
      "text/plain": [
       "2"
      ]
     },
     "metadata": {},
     "output_type": "display_data"
    }
   ],
   "source": [
    "res3=sp.solveset(x**2 - 4, x)\n",
    "display(res3)\n",
    "display(res3.args[0])\n",
    "display(res3.args[1])"
   ]
  },
  {
   "cell_type": "markdown",
   "metadata": {},
   "source": [
    "# System of linear equations\n",
    "linsolve([expression1, expression2],(symbol1, symbol2))"
   ]
  },
  {
   "cell_type": "code",
   "execution_count": 37,
   "metadata": {},
   "outputs": [
    {
     "data": {
      "text/latex": [
       "$\\displaystyle \\left( 1, \\  3\\right)$"
      ],
      "text/plain": [
       "(1, 3)"
      ]
     },
     "metadata": {},
     "output_type": "display_data"
    }
   ],
   "source": [
    "x, y=sp.symbols(\"x y\")\n",
    "res1=sp.linsolve([2*x+y-5, -x+y-2], (x,y))\n",
    "display(res1.args[0])\n"
   ]
  },
  {
   "cell_type": "markdown",
   "metadata": {},
   "source": [
    "# System of non linear equations\n",
    "nonlinsolve([expression1, expression2],(symbol1, symbol2))"
   ]
  },
  {
   "cell_type": "code",
   "execution_count": 38,
   "metadata": {},
   "outputs": [
    {
     "data": {
      "text/latex": [
       "$\\displaystyle \\left\\{\\left( 0, \\  1\\right), \\left( 1, \\  2\\right)\\right\\}$"
      ],
      "text/plain": [
       "{(0, 1), (1, 2)}"
      ]
     },
     "metadata": {},
     "output_type": "display_data"
    }
   ],
   "source": [
    "res2=sp.nonlinsolve([x-y+1, y-1-x**2],(x,y))\n",
    "display(res2)"
   ]
  },
  {
   "cell_type": "code",
   "execution_count": null,
   "metadata": {},
   "outputs": [],
   "source": []
  }
 ],
 "metadata": {
  "kernelspec": {
   "display_name": "Python 3",
   "language": "python",
   "name": "python3"
  },
  "language_info": {
   "codemirror_mode": {
    "name": "ipython",
    "version": 3
   },
   "file_extension": ".py",
   "mimetype": "text/x-python",
   "name": "python",
   "nbconvert_exporter": "python",
   "pygments_lexer": "ipython3",
   "version": "3.7.6"
  }
 },
 "nbformat": 4,
 "nbformat_minor": 4
}
